{
  "cells": [
    {
      "cell_type": "markdown",
      "metadata": {
        "id": "WtmaW1oRudsa"
      },
      "source": [
        "[![image](https://colab.research.google.com/assets/colab-badge.svg)](https://colab.research.google.com/github/giswqs/geog-312/blob/master/labs/lab_03.ipynb)\n",
        "[![image](https://binder.pangeo.io/badge_logo.svg)](https://gishub.org/geog312-pangeo)"
      ]
    },
    {
      "cell_type": "markdown",
      "metadata": {
        "id": "-E7eMl6iudsc"
      },
      "source": [
        "**Firstname Lastname**"
      ]
    },
    {
      "cell_type": "code",
      "execution_count": null,
      "metadata": {
        "id": "_08-2NJludsd"
      },
      "outputs": [],
      "source": [
        "from datetime import datetime\n",
        "\n",
        "now = datetime.now()\n",
        "print(f\"Submitted time: {now}\")"
      ]
    },
    {
      "cell_type": "markdown",
      "metadata": {
        "id": "TUHm21Dnudse"
      },
      "source": [
        "## Question 1\n",
        "**Pizzas:** Think of at least three kinds of your favorite pizza. Store these pizza names in a list, and then use a for loop to print the name of each pizza.\n",
        "\n",
        "Modify your for loop to print a sentence using the name of the pizza instead of printing just the name of the pizza. For each pizza you should have one line of output containing a simple statement like *I like pepperoni pizza.*"
      ]
    },
    {
      "cell_type": "code",
      "execution_count": 9,
      "metadata": {
        "id": "l41xLgEeudse",
        "colab": {
          "base_uri": "https://localhost:8080/"
        },
        "outputId": "2b0cad86-9bf2-4062-c5b7-61ad7912483a"
      },
      "outputs": [
        {
          "output_type": "stream",
          "name": "stdout",
          "text": [
            "I have eaten hawaiian pizza before.\n",
            "I have eaten pepperoni pizza before.\n",
            "I have eaten meat lover pizza before.\n"
          ]
        }
      ],
      "source": [
        "types_of_pizza = \"hawaiian\", \"pepperoni\", \"meat lover\"\n",
        "for x in types_of_pizza:\n",
        "  print(\"I have eaten\", x, \"pizza before.\")"
      ]
    },
    {
      "cell_type": "markdown",
      "metadata": {
        "id": "ULPXMz1judse"
      },
      "source": [
        "Add a line at the end of your program, outside the for loop, that states how much you like pizza. The output should consist of three or more lines about the kinds of pizza you like and then an additional sentence, such as *I really love pizza!*"
      ]
    },
    {
      "cell_type": "code",
      "execution_count": 8,
      "metadata": {
        "id": "W61mBrTxudse",
        "colab": {
          "base_uri": "https://localhost:8080/"
        },
        "outputId": "8a8f4d35-4a21-4853-814c-c44ec9088240"
      },
      "outputs": [
        {
          "output_type": "stream",
          "name": "stdout",
          "text": [
            "I have eaten hawaiian pizza before.\n",
            "I have eaten pepperoni pizza before.\n",
            "I have eaten meat lover pizza before.\n",
            "These are all so good!\n"
          ]
        }
      ],
      "source": [
        "types_of_pizza = \"hawaiian\", \"pepperoni\", \"meat lover\"\n",
        "for x in types_of_pizza:\n",
        "  print(\"I have eaten\", x, \"pizza before.\")\n",
        "\n",
        "print(\"These are all so good!\")"
      ]
    },
    {
      "cell_type": "markdown",
      "metadata": {
        "id": "2oOi0UWHudse"
      },
      "source": [
        "## Question 2\n",
        "**Animals:** Think of at least three different animals that have a common characteristic. Store the names of these animals in a list, and then use a for loop to print out the name of each animal.\n",
        "\n",
        "Modify your program to print a statement about each animal, such as *A dog would make a great pet.*"
      ]
    },
    {
      "cell_type": "code",
      "execution_count": 10,
      "metadata": {
        "id": "y_WdNQOsudse",
        "colab": {
          "base_uri": "https://localhost:8080/"
        },
        "outputId": "4e1e4938-b3f2-4c09-92f9-07a8980dd310"
      },
      "outputs": [
        {
          "output_type": "stream",
          "name": "stdout",
          "text": [
            "A shrimp lives underwater.\n",
            "A whale lives underwater.\n",
            "A dolphin lives underwater.\n"
          ]
        }
      ],
      "source": [
        "animals = \"shrimp\", \"whale\", \"dolphin\"\n",
        "for y in animals:\n",
        "  print(\"A\", y, \"lives underwater.\")"
      ]
    },
    {
      "cell_type": "markdown",
      "metadata": {
        "id": "VVz70OyGudsf"
      },
      "source": [
        "Add a line at the end of your program stating what these animals have in common. You could print a sentence such as *Any of these animals would make a great pet!*"
      ]
    },
    {
      "cell_type": "code",
      "execution_count": 11,
      "metadata": {
        "id": "ubgHmgIJudsf",
        "colab": {
          "base_uri": "https://localhost:8080/"
        },
        "outputId": "7026ad5b-0fa4-4cda-c939-53e85d0c4371"
      },
      "outputs": [
        {
          "output_type": "stream",
          "name": "stdout",
          "text": [
            "A shrimp lives underwater.\n",
            "A whale lives underwater.\n",
            "A dolphin lives underwater.\n",
            "All of these animals live underwater.\n"
          ]
        }
      ],
      "source": [
        "animals = \"shrimp\", \"whale\", \"dolphin\"\n",
        "for y in animals:\n",
        "  print(\"A\", y, \"lives underwater.\")\n",
        "\n",
        "print(\"All of these animals live underwater.\")"
      ]
    },
    {
      "cell_type": "markdown",
      "metadata": {
        "id": "zbtLzj4-udsf"
      },
      "source": [
        "## Question 3\n",
        "**Counting to Twenty:** Use a for loop to print the numbers from 1 to 20, inclusive."
      ]
    },
    {
      "cell_type": "code",
      "execution_count": 12,
      "metadata": {
        "id": "sLTpjbJaudsf",
        "colab": {
          "base_uri": "https://localhost:8080/"
        },
        "outputId": "1278a881-bec4-41f2-9e05-04eaab7085c3"
      },
      "outputs": [
        {
          "output_type": "stream",
          "name": "stdout",
          "text": [
            "1\n",
            "2\n",
            "3\n",
            "4\n",
            "5\n",
            "6\n",
            "7\n",
            "8\n",
            "9\n",
            "10\n",
            "11\n",
            "12\n",
            "13\n",
            "14\n",
            "15\n",
            "16\n",
            "17\n",
            "18\n",
            "19\n",
            "20\n"
          ]
        }
      ],
      "source": [
        "M = 1\n",
        "for a in range(1, 21):\n",
        "  print(M)\n",
        "  M += 1"
      ]
    },
    {
      "cell_type": "markdown",
      "metadata": {
        "id": "SALrQCAsudsf"
      },
      "source": [
        "## Question 4\n",
        "**One Hundred:** Make a list of the numbers from one to one hundred, and then use a for loop to print the numbers."
      ]
    },
    {
      "cell_type": "code",
      "execution_count": 7,
      "metadata": {
        "id": "Br4ZJmcwudsf",
        "colab": {
          "base_uri": "https://localhost:8080/"
        },
        "outputId": "5bd862a4-c446-4bc1-875c-5821ae9afe82"
      },
      "outputs": [
        {
          "output_type": "stream",
          "name": "stdout",
          "text": [
            "1\n",
            "2\n",
            "3\n",
            "4\n",
            "5\n",
            "6\n",
            "7\n",
            "8\n",
            "9\n",
            "10\n",
            "11\n",
            "12\n",
            "13\n",
            "14\n",
            "15\n",
            "16\n",
            "17\n",
            "18\n",
            "19\n",
            "20\n",
            "21\n",
            "22\n",
            "23\n",
            "24\n",
            "25\n",
            "26\n",
            "27\n",
            "28\n",
            "29\n",
            "30\n",
            "31\n",
            "32\n",
            "33\n",
            "34\n",
            "35\n",
            "36\n",
            "37\n",
            "38\n",
            "39\n",
            "40\n",
            "41\n",
            "42\n",
            "43\n",
            "44\n",
            "45\n",
            "46\n",
            "47\n",
            "48\n",
            "49\n",
            "50\n",
            "51\n",
            "52\n",
            "53\n",
            "54\n",
            "55\n",
            "56\n",
            "57\n",
            "58\n",
            "59\n",
            "60\n",
            "61\n",
            "62\n",
            "63\n",
            "64\n",
            "65\n",
            "66\n",
            "67\n",
            "68\n",
            "69\n",
            "70\n",
            "71\n",
            "72\n",
            "73\n",
            "74\n",
            "75\n",
            "76\n",
            "77\n",
            "78\n",
            "79\n",
            "80\n",
            "81\n",
            "82\n",
            "83\n",
            "84\n",
            "85\n",
            "86\n",
            "87\n",
            "88\n",
            "89\n",
            "90\n",
            "91\n",
            "92\n",
            "93\n",
            "94\n",
            "95\n",
            "96\n",
            "97\n",
            "98\n",
            "99\n",
            "100\n"
          ]
        }
      ],
      "source": [
        "numbers = range(1,101)\n",
        "for b in numbers:\n",
        "  print(b)"
      ]
    },
    {
      "cell_type": "markdown",
      "metadata": {
        "id": "XHLeKqMeudsf"
      },
      "source": [
        "## Question 5\n",
        "**Summing a Hundred:** Make a list of the numbers from one to one million, and then use `min()` and `max()` to make sure your list actually starts at one and ends at one hundred. Also, use the sum() function to see how quickly Python can add a hundred numbers."
      ]
    },
    {
      "cell_type": "code",
      "execution_count": 19,
      "metadata": {
        "id": "VZ2SFAuPudsf",
        "colab": {
          "base_uri": "https://localhost:8080/"
        },
        "outputId": "98dca2e9-6e9c-437d-9747-2c69dcc7412c"
      },
      "outputs": [
        {
          "output_type": "stream",
          "name": "stdout",
          "text": [
            "1\n",
            "100\n",
            "5050\n"
          ]
        }
      ],
      "source": [
        "one_hundred = list(range(1,101))\n",
        "print(min(one_hundred))\n",
        "print(max(one_hundred))\n",
        "print(sum(one_hundred))"
      ]
    },
    {
      "cell_type": "markdown",
      "metadata": {
        "id": "V8_uGUIWudsf"
      },
      "source": [
        "## Question 6\n",
        "**Odd Numbers:** Use the third argument of the `range()` function to make a list of the odd numbers from 1 to 20. Use a `for` loop to print each number."
      ]
    },
    {
      "cell_type": "code",
      "execution_count": 22,
      "metadata": {
        "id": "E4U8hk9Vudsg",
        "colab": {
          "base_uri": "https://localhost:8080/"
        },
        "outputId": "2f9bc771-e78d-4361-a7eb-a9cd46a3b8fc"
      },
      "outputs": [
        {
          "output_type": "stream",
          "name": "stdout",
          "text": [
            "1\n",
            "3\n",
            "5\n",
            "7\n",
            "9\n",
            "11\n",
            "13\n",
            "15\n",
            "17\n",
            "19\n"
          ]
        }
      ],
      "source": [
        "odd_numbers = list(range(1, 20, 2))\n",
        "for c in odd_numbers:\n",
        "  print(c)"
      ]
    },
    {
      "cell_type": "markdown",
      "metadata": {
        "id": "9tNxz96sudsg"
      },
      "source": [
        "## Question 7\n",
        "**Threes:** Make a list of the multiples of 3 from 3 to 30. Use a `for` loop to print the numbers in your list."
      ]
    },
    {
      "cell_type": "code",
      "execution_count": 23,
      "metadata": {
        "id": "ylGxpnVWudsg",
        "colab": {
          "base_uri": "https://localhost:8080/"
        },
        "outputId": "d37f86c2-3998-4556-b822-fe16b36ad1df"
      },
      "outputs": [
        {
          "output_type": "stream",
          "name": "stdout",
          "text": [
            "3\n",
            "6\n",
            "9\n",
            "12\n",
            "15\n",
            "18\n",
            "21\n",
            "24\n",
            "27\n"
          ]
        }
      ],
      "source": [
        "multiples_of_three = list(range(3,30,3))\n",
        "for d in multiples_of_three:\n",
        "  print(d)"
      ]
    },
    {
      "cell_type": "markdown",
      "metadata": {
        "id": "YBfX7Ignudsg"
      },
      "source": [
        "## Question 8\n",
        "**Cubes:** A number raised to the third power is called a cube. For example, the cube of 2 is written as 2 ** 3 in Python. Make a list of the first 10 cubes (that is, the cube of each integer from 1 through 10), and use a for loop to print out the value of each cube."
      ]
    },
    {
      "cell_type": "code",
      "execution_count": 26,
      "metadata": {
        "id": "ZOXhXZ1Uudsg",
        "colab": {
          "base_uri": "https://localhost:8080/"
        },
        "outputId": "95bea5b9-32d9-4c14-c659-427e328c49f7"
      },
      "outputs": [
        {
          "output_type": "stream",
          "name": "stdout",
          "text": [
            "1\n",
            "8\n",
            "27\n",
            "64\n",
            "125\n",
            "216\n",
            "343\n",
            "512\n",
            "729\n",
            "1000\n"
          ]
        }
      ],
      "source": [
        "oneToTen = 1,2,3,4,5,6,7,8,9,10\n",
        "cube = []\n",
        "for e in oneToTen:\n",
        "  cube.append(e**3)\n",
        "for f in cube:\n",
        "  print(f)"
      ]
    },
    {
      "cell_type": "markdown",
      "metadata": {
        "id": "OCWpOrStudsg"
      },
      "source": [
        "## Question 9\n",
        "**Cube Comprehension:** Use a list comprehension to generate a list of the first 10 cubes."
      ]
    },
    {
      "cell_type": "code",
      "execution_count": 28,
      "metadata": {
        "id": "5RA7beWkudsg",
        "colab": {
          "base_uri": "https://localhost:8080/"
        },
        "outputId": "078eef23-4b7d-46a7-fcdd-3e3d6ceaec40"
      },
      "outputs": [
        {
          "output_type": "stream",
          "name": "stdout",
          "text": [
            "[1, 4, 9, 16, 25, 36, 49, 64, 81, 100]\n"
          ]
        }
      ],
      "source": [
        "cubes = [value**2 for value in range(1, 11)]\n",
        "print(cubes)"
      ]
    },
    {
      "cell_type": "markdown",
      "metadata": {
        "id": "NtrWPaSsudsg"
      },
      "source": [
        "## Question 10\n",
        "**Slices:** Using one of the programs you wrote in this lab, add several lines to the end of the program that do the following:\n",
        "\n",
        "Print the message *The first three items in the list are:*. Then use a slice to print the first three items from that program’s list."
      ]
    },
    {
      "cell_type": "code",
      "execution_count": 29,
      "metadata": {
        "id": "OaAfC6s7udsg",
        "colab": {
          "base_uri": "https://localhost:8080/"
        },
        "outputId": "51bbd764-c1a1-4da9-d2a2-1d69ba706a20"
      },
      "outputs": [
        {
          "output_type": "stream",
          "name": "stdout",
          "text": [
            "The first three items in the list are: (1, 2, 3)\n"
          ]
        }
      ],
      "source": [
        "oneToTen = 1,2,3,4,5,6,7,8,9,10\n",
        "print(\"The first three items in the list are:\", oneToTen[:3])"
      ]
    },
    {
      "cell_type": "markdown",
      "metadata": {
        "id": "DyEPkmV0udsg"
      },
      "source": [
        "Print the message *Three items from the middle of the list are:*. Use a slice to print three items from the middle of the list."
      ]
    },
    {
      "cell_type": "code",
      "execution_count": 31,
      "metadata": {
        "id": "rSskw7Nhudsh",
        "colab": {
          "base_uri": "https://localhost:8080/"
        },
        "outputId": "9df89767-ffab-4ae8-b8e6-55b43a201c94"
      },
      "outputs": [
        {
          "output_type": "stream",
          "name": "stdout",
          "text": [
            "The middle three items in the list are: (5, 6, 7)\n"
          ]
        }
      ],
      "source": [
        "oneToTen = 1,2,3,4,5,6,7,8,9,10\n",
        "print(\"The middle three items in the list are:\", oneToTen[4:7])"
      ]
    },
    {
      "cell_type": "markdown",
      "metadata": {
        "id": "jfSCTnTBudsh"
      },
      "source": [
        "Print the message *The last three items in the list are:*. Use a slice to print the last three items in the list."
      ]
    },
    {
      "cell_type": "code",
      "execution_count": 33,
      "metadata": {
        "id": "X7UTifVaudsh",
        "colab": {
          "base_uri": "https://localhost:8080/"
        },
        "outputId": "5f46ee83-4a40-428b-829b-d8582f5edf84"
      },
      "outputs": [
        {
          "output_type": "stream",
          "name": "stdout",
          "text": [
            "The last three items in the list are: (8, 9, 10)\n"
          ]
        }
      ],
      "source": [
        "oneToTen = 1,2,3,4,5,6,7,8,9,10\n",
        "print(\"The last three items in the list are:\", oneToTen[7:])"
      ]
    },
    {
      "cell_type": "markdown",
      "metadata": {
        "id": "LBusuNmkudsh"
      },
      "source": [
        "## Question 11\n",
        "**My Pizzas, Your Pizzas:** Start with your program from Question 1. Make a copy of the list of pizzas, and call it friend_pizzas. Then, do the following:\n",
        "\n",
        "Add a new pizza to the original list."
      ]
    },
    {
      "cell_type": "code",
      "execution_count": 38,
      "metadata": {
        "id": "22YJZ69hudsh"
      },
      "outputs": [],
      "source": [
        "my_pizzas = [\"hawaiian\", \"pepperoni\", \"meat lover\"]\n",
        "friend_pizzas = [\"hawaiian\", \"pepperoni\", \"meat lover\"]\n",
        "my_pizzas.append(\"cheese\")"
      ]
    },
    {
      "cell_type": "markdown",
      "metadata": {
        "id": "2OKomjYzudsh"
      },
      "source": [
        "Add a different pizza to the list `friend_pizzas`."
      ]
    },
    {
      "cell_type": "code",
      "execution_count": 39,
      "metadata": {
        "id": "LkVZ0Y_Eudsh"
      },
      "outputs": [],
      "source": [
        "friend_pizzas.append(\"veggie\")"
      ]
    },
    {
      "cell_type": "markdown",
      "metadata": {
        "id": "CjalgJTtudsi"
      },
      "source": [
        "Prove that you have two separate lists. Print the message *My favorite pizzas are:*, and then use a for loop to print the first list. Print the message *My friend’s favorite pizzas are:*, and then use a for loop to print the second list. Make sure each new pizza is stored in the appropriate list."
      ]
    },
    {
      "cell_type": "code",
      "execution_count": 40,
      "metadata": {
        "id": "Z623ockgudsi",
        "colab": {
          "base_uri": "https://localhost:8080/"
        },
        "outputId": "cd10ead2-ea28-46f8-ea76-23cd57293ece"
      },
      "outputs": [
        {
          "output_type": "stream",
          "name": "stdout",
          "text": [
            "My favorite pizzas are:\n",
            "hawaiian\n",
            "pepperoni\n",
            "meat lover\n",
            "cheese\n",
            "My friend's favorite pizzas are:\n",
            "hawaiian\n",
            "pepperoni\n",
            "meat lover\n",
            "veggie\n"
          ]
        }
      ],
      "source": [
        "print(\"My favorite pizzas are:\")\n",
        "for L in my_pizzas:\n",
        "  print(L)\n",
        "\n",
        "print(\"My friend's favorite pizzas are:\")\n",
        "for P in friend_pizzas:\n",
        "  print(P)"
      ]
    },
    {
      "cell_type": "markdown",
      "metadata": {
        "id": "Kkix0WkZudsi"
      },
      "source": [
        "## Question 12\n",
        "**Buffet:** A buffet-style restaurant offers only five basic foods. Think of five simple foods, and store them in a tuple.\n",
        "\n",
        "Use a for loop to print each food the restaurant offers."
      ]
    },
    {
      "cell_type": "code",
      "execution_count": 42,
      "metadata": {
        "id": "y5SPR6G2udsi",
        "colab": {
          "base_uri": "https://localhost:8080/"
        },
        "outputId": "11f37508-a6f1-4802-9180-4dc76e0b72b3"
      },
      "outputs": [
        {
          "output_type": "stream",
          "name": "stdout",
          "text": [
            "pasta\n",
            "pizza\n",
            "soup\n",
            "sandwhich\n",
            "salad\n"
          ]
        }
      ],
      "source": [
        "buffet = (\"pasta\", \"pizza\", \"soup\", \"sandwhich\", \"salad\")\n",
        "for U in buffet:\n",
        "  print(U)"
      ]
    },
    {
      "cell_type": "markdown",
      "metadata": {
        "id": "MlIIK111udsi"
      },
      "source": [
        "Try to modify one of the items, and make sure that Python rejects the change."
      ]
    },
    {
      "cell_type": "code",
      "execution_count": 43,
      "metadata": {
        "id": "CpWnmIObudsj",
        "colab": {
          "base_uri": "https://localhost:8080/",
          "height": 174
        },
        "outputId": "ba364df5-6a05-4ce2-b212-ef3c5034a059"
      },
      "outputs": [
        {
          "output_type": "error",
          "ename": "AttributeError",
          "evalue": "ignored",
          "traceback": [
            "\u001b[0;31m---------------------------------------------------------------------------\u001b[0m",
            "\u001b[0;31mAttributeError\u001b[0m                            Traceback (most recent call last)",
            "\u001b[0;32m<ipython-input-43-7d9d558d198f>\u001b[0m in \u001b[0;36m<cell line: 1>\u001b[0;34m()\u001b[0m\n\u001b[0;32m----> 1\u001b[0;31m \u001b[0mbuffet\u001b[0m\u001b[0;34m.\u001b[0m\u001b[0mremove\u001b[0m\u001b[0;34m(\u001b[0m\u001b[0;34m\"pasta\"\u001b[0m\u001b[0;34m)\u001b[0m\u001b[0;34m\u001b[0m\u001b[0;34m\u001b[0m\u001b[0m\n\u001b[0m",
            "\u001b[0;31mAttributeError\u001b[0m: 'tuple' object has no attribute 'remove'"
          ]
        }
      ],
      "source": [
        "buffet.remove(\"pasta\")"
      ]
    },
    {
      "cell_type": "markdown",
      "metadata": {
        "id": "Bjs375-Pudsj"
      },
      "source": [
        "The restaurant changes its menu, replacing two of the items with different foods. Add a line that rewrites the tuple, and then use a for loop to print each of the items on the revised menu."
      ]
    },
    {
      "cell_type": "code",
      "execution_count": 44,
      "metadata": {
        "id": "MgNvue_Eudsj",
        "colab": {
          "base_uri": "https://localhost:8080/"
        },
        "outputId": "885a381a-4734-4f30-f76b-85d6267a509a"
      },
      "outputs": [
        {
          "output_type": "stream",
          "name": "stdout",
          "text": [
            "pasta\n",
            "pizza\n",
            "burger\n",
            "fries\n",
            "salad\n"
          ]
        }
      ],
      "source": [
        "buffet_rewritten = (\"pasta\", \"pizza\", \"burger\", \"fries\", \"salad\")\n",
        "for R in buffet_rewritten:\n",
        "  print(R)"
      ]
    }
  ],
  "metadata": {
    "kernelspec": {
      "display_name": "Python 3 (ipykernel)",
      "language": "python",
      "name": "python3"
    },
    "language_info": {
      "codemirror_mode": {
        "name": "ipython",
        "version": 3
      },
      "file_extension": ".py",
      "mimetype": "text/x-python",
      "name": "python",
      "nbconvert_exporter": "python",
      "pygments_lexer": "ipython3",
      "version": "3.8.10"
    },
    "colab": {
      "provenance": []
    }
  },
  "nbformat": 4,
  "nbformat_minor": 0
}